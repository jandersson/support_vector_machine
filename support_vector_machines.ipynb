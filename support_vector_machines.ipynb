{
 "cells": [
  {
   "cell_type": "code",
   "execution_count": 1,
   "metadata": {
    "collapsed": false
   },
   "outputs": [],
   "source": [
    "from cvxopt.solvers import qp\n",
    "from cvxopt.base import matrix\n",
    "\n",
    "import numpy, pylab, random, math\n"
   ]
  },
  {
   "cell_type": "markdown",
   "metadata": {
    "collapsed": true
   },
   "source": [
    "# Whats the deal with large margins? /seinfeld\n",
    "Lines that are too close to one class or another class (the positives or negatives), means that you believe in your training data too much. You don't want to believe the data too much, even though its all you have, otherwise you are *overfitting*. Lines that are too close to one of the classes are more likely to overfit. \n",
    "\n",
    "Functions which overfit are more complex, so it is interesting to note that the lines which are too close to a particular class are more complex.\n",
    "\n",
    "This is a good literal interpretation of the words \"over\" and \"fit.\"\n"
   ]
  },
  {
   "cell_type": "markdown",
   "metadata": {
    "collapsed": true
   },
   "source": [
    "# Lines and Hyperplanes\n",
    "The equation for a line is relatively straightforward:\n",
    "y = mx+b\n",
    "\n",
    "The equation for a hyperplane looks like this:\n",
    "y = w(transpose)x + b\n",
    "\n",
    "Heres some definitions for this hyperplane equation:\n",
    "* y: *classification label. *The output which indicates whether you are in the positive or negative class\n",
    "* w: parameters for the plane\n",
    "* b: also another parameter, moves it out of the origin"
   ]
  },
  {
   "cell_type": "markdown",
   "metadata": {},
   "source": [
    "# Kernel Function\n",
    "\n",
    "**Task:** Implement a suitable kernel function\n",
    "\n",
    "## Linear Kernel\n",
    "\n",
    "This is really just a dot product of two vectors (plus one).\n",
    "\n",
    "K(vec_x, vec_y) = vec_x_transpose * vec_y + 1"
   ]
  },
  {
   "cell_type": "code",
   "execution_count": 2,
   "metadata": {
    "collapsed": true
   },
   "outputs": [],
   "source": [
    "def linear_kernel(vec_x, vec_y):\n",
    "    # Take the dot product and then add one\n",
    "    return numpy.dot(vec_x, vec_y) + 1\n",
    "    "
   ]
  },
  {
   "cell_type": "code",
   "execution_count": 3,
   "metadata": {
    "collapsed": false
   },
   "outputs": [
    {
     "name": "stdout",
     "output_type": "stream",
     "text": [
      "15\n"
     ]
    }
   ],
   "source": [
    "vec_x = [1,2,3]\n",
    "vec_y = [1,2,3]\n",
    "print(linear_kernel(vec_x,vec_y))"
   ]
  },
  {
   "cell_type": "markdown",
   "metadata": {},
   "source": [
    "# Build a P matrix\n"
   ]
  }
 ],
 "metadata": {
  "kernelspec": {
   "display_name": "Python 3",
   "language": "python",
   "name": "python3"
  },
  "language_info": {
   "codemirror_mode": {
    "name": "ipython",
    "version": 3
   },
   "file_extension": ".py",
   "mimetype": "text/x-python",
   "name": "python",
   "nbconvert_exporter": "python",
   "pygments_lexer": "ipython3",
   "version": "3.4.3"
  }
 },
 "nbformat": 4,
 "nbformat_minor": 0
}
