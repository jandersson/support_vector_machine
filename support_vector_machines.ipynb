{
 "cells": [
  {
   "cell_type": "code",
   "execution_count": 110,
   "metadata": {
    "collapsed": false
   },
   "outputs": [],
   "source": [
    "from cvxopt.solvers import qp\n",
    "from cvxopt.base import matrix\n",
    "\n",
    "import numpy, pylab, random, math\n",
    "%matplotlib inline"
   ]
  },
  {
   "cell_type": "markdown",
   "metadata": {
    "collapsed": true
   },
   "source": [
    "# Why do we care about having a large margin?\n",
    "Lines that are too close to one class or another class (the positives or negatives), means that you believe in your training data too much. You don't want to believe the data too much, even though its all you have, otherwise you are *overfitting*. Lines that are too close to one of the classes are more likely to overfit. \n",
    "\n",
    "Functions which overfit are more complex, so it is interesting to note that the lines which are too close to a particular class are more complex.\n",
    "\n",
    "This is a good literal interpretation of the words \"over\" and \"fit.\"\n"
   ]
  },
  {
   "cell_type": "code",
   "execution_count": 111,
   "metadata": {
    "collapsed": true
   },
   "outputs": [],
   "source": [
    "#TODO: Loop and print out all the seperator types\n",
    "#TODO: Move the data around, print out all the seperator types"
   ]
  },
  {
   "cell_type": "markdown",
   "metadata": {
    "collapsed": true
   },
   "source": [
    "# Lines and Hyperplanes\n",
    "The equation for a line is relatively straightforward:\n",
    "y = mx+b\n",
    "\n",
    "The equation for a hyperplane looks like this:\n",
    "y = w(transpose)x + b\n",
    "\n",
    "Heres some definitions for this hyperplane equation:\n",
    "* y: *classification label. *The output which indicates whether you are in the positive or negative class\n",
    "* w: parameters for the plane\n",
    "* b: also another parameter, moves it out of the origin"
   ]
  },
  {
   "cell_type": "markdown",
   "metadata": {},
   "source": [
    "# Kernel Function\n",
    "\n",
    "**Task:** Implement a suitable kernel function\n",
    "\n",
    "## Linear Kernel\n",
    "\n",
    "This is really just a dot product of two vectors (plus one).\n",
    "\n",
    "K(vec_x, vec_y) = vec_x_transpose * vec_y + 1"
   ]
  },
  {
   "cell_type": "code",
   "execution_count": 112,
   "metadata": {
    "collapsed": true
   },
   "outputs": [],
   "source": [
    "#Global Parameters\n",
    "POWER = 2\n",
    "RADIAL_OMEGA = 1\n",
    "SIGMOID_DELTA = 2\n",
    "SIGMOID_K = 1\n",
    "SLACK = False\n",
    "C = .9"
   ]
  },
  {
   "cell_type": "code",
   "execution_count": 126,
   "metadata": {
    "collapsed": true
   },
   "outputs": [],
   "source": [
    "def linear_kernel(vec_x, vec_y):\n",
    "    # Take the dot product and then add one\n",
    "    return numpy.dot(vec_x, vec_y) + 1\n",
    "    "
   ]
  },
  {
   "cell_type": "code",
   "execution_count": 114,
   "metadata": {
    "collapsed": true
   },
   "outputs": [],
   "source": [
    "#Kernel classes\n",
    "class kernels:\n",
    "   def linear(x, y):\n",
    "       xTrans = numpy.array(x).transpose()\n",
    "       return xTrans.dot(y) + 1\n",
    "\n",
    "   def polynomial(x, y):\n",
    "       return math.pow(kernels.linear(x,y), POWER)\n",
    "\n",
    "   def radial(x, y):\n",
    "       xTrans = numpy.array(x).transpose()\n",
    "       xy  = numpy.subtract(xTrans, y)\n",
    "       normXY = numpy.linalg.norm(xy)\n",
    "       return math.exp( -math.pow(normXY,2)/(2*math.pow(RADIAL_OMEGA,2)))\n",
    "\n",
    "   def sigmoid(x, y):\n",
    "       xTrans = numpy.array(x).transpose()\n",
    "       return numpy.tanh(SIGMOID_K*xTrans.dot(y) - SIGMOID_DELTA)\n",
    "\n",
    "G_KERNEL_FUNCTION = kernels.radial"
   ]
  },
  {
   "cell_type": "markdown",
   "metadata": {},
   "source": [
    "# Build a P matrix\n"
   ]
  },
  {
   "cell_type": "code",
   "execution_count": 115,
   "metadata": {
    "collapsed": true
   },
   "outputs": [],
   "source": [
    "def build_p_matrix(samples, kernel_fun):\n",
    "    matrix = []\n",
    "    x_i = []\n",
    "    x_j = []\n",
    "    for i in range(len(samples)):\n",
    "        row = []\n",
    "        for j in range(len(samples)):\n",
    "            P_element = samples[i][2] * samples[j][2] * kernel_fun([samples[i][0], samples[i][1]], \n",
    "                                                                   [samples[j][0], samples[j][1]])\n",
    "            row.append(P_element)\n",
    "        matrix.append(row)\n",
    "    return matrix\n",
    "\n"
   ]
  },
  {
   "cell_type": "markdown",
   "metadata": {},
   "source": [
    "# Generate Test Data"
   ]
  },
  {
   "cell_type": "code",
   "execution_count": 125,
   "metadata": {
    "collapsed": false
   },
   "outputs": [],
   "source": [
    "classA = [(random.normalvariate(-1.5, 1),\n",
    "          random.normalvariate(0.5, 1),\n",
    "          1.0)\n",
    "          for i in range(5)] + \\\n",
    "        [(random.normalvariate(1.5, 1),\n",
    "         random.normalvariate(0.5, 1),\n",
    "         1.0)\n",
    "        for i in range(5)]\n",
    "    \n",
    "classB = [(random.normalvariate(0.0, 0.5),\n",
    "          random.normalvariate(-0.5, 0.5),\n",
    "          -1.0)\n",
    "         for i in range(10)]\n",
    "\n",
    "\n",
    "# def generate_seperable_data(classA, classB):\n",
    "#     classes = []\n",
    "#     classes[0] = [(random.normalvariate(0, 1),\n",
    "#               random.normalvariate(0, 1),\n",
    "#               1.0)\n",
    "#               for i in range(1)] + \\\n",
    "#             [(random.normalvariate(0, 1),\n",
    "#              random.normalvariate(0, 1),\n",
    "#              1.0)\n",
    "#             for i in range(1)]\n",
    "\n",
    "#     classes[1] = [(random.normalvariate(0, -1),\n",
    "#               random.normalvariate(0, -1),\n",
    "#               -1.0)\n",
    "#          for i in range(1)]\n",
    "#     classes[2] = classes[0] + classes[1]\n",
    "#     random.shuffle(classes[2])\n",
    "#     print(classes)\n",
    "#     return \n",
    "# classA = [(0.9965606631942062, -0.5554064756635275, 1.0), (-0.4257474227660285, 0.12027119134640568, 1.0), (1.0685579193865484, 1.7257296825964354, 1.0), (1.045323475199482, -0.8711231251800222, 1.0), (0.549159919939763, 1.5881500878276624, 1.0), (2.0442145407307306, 1.6140637934176618, 1.0), (0.7890087908317421, 0.7036643434254063, 1.0), (0.37179721751008055, 2.1200080907899768, 1.0), (1.3818768555039853, 0.6776276672167125, 1.0), (1.3929594381459929, -0.48048225627197305, 1.0)]\n",
    "# classB = [(-2.2995482941558283, -1.0700711043993594, -1.0), (-0.2030449660422663, 1.0322082551171978, -1.0), (-2.8795010107069663, 0.05168709419608353, -1.0), (-2.414540711588119, -1.6575303869890203, -1.0), (0.6908965254702872, -0.9827822790074381, -1.0), (-0.5307462629348426, -0.35114912081275895, -1.0), (-0.8721199516085301, -1.580983996797356, -1.0), (-1.743754539812206, 0.3870688986767209, -1.0), (-0.9557368849879198, -1.7059133825957709, -1.0), (0.5517184529744592, -0.8129233391226747, -1.0)]\n",
    "\n",
    "classB = [(-0.749129952478279, -0.7857358946867714, 1.0), (-1.750343458187756, 0.7646591594145473, 1.0), (-3.412352763936121, -0.3826940863161449, 1.0), (-0.9011129036996118, -0.3881511203916689, 1.0), (-3.0907062804259575, 1.867786733427103, 1.0), (1.8104971494638822, 2.5655631913923043, 1.0), (3.07051968941974, -0.8220109384854184, 1.0), (0.46262454825344945, 1.5889758961671283, 1.0), (0.5018175889261594, 0.5667111050615823, 1.0), (2.0212934228328137, 0.6123438350354439, 1.0)]\n",
    "classA = [(-0.013268127566058819, -0.41546764732696684, -1.0), (-0.6679306536865377, 0.19683509583314762, -1.0), (0.35163738620084706, -1.4851766562697493, -1.0), (-0.470946116529908, 0.16978975127052776, -1.0), (0.4377477212321783, 0.1219981772899178, -1.0), (0.5549860586749884, -0.28391708864193244, -1.0), (0.392377055782208, -0.8805050838040313, -1.0), (-0.7755512455725297, -0.9459520670571256, -1.0), (-0.49587165786604204, -0.4889861250502649, -1.0), (-0.3381678863310306, -0.8870134372149905, -1.0)]\n",
    "data = classA + classB\n",
    "random.shuffle(data)\n",
    "#Jokull's Data\n",
    "# data = [(-0.4817775866423481, -0.676196126111814, -1.0), (-1.3746653598765421, -1.2335653503955357, 1.0), (-0.04952991285713326, -0.477259823574604, -1.0), (-2.435302270702021, 0.5791628345129953, 1.0), (-0.23207345925812842, -0.829241385869637, -1.0), (-1.746084907233614, 0.9006137892797217, 1.0), (-0.3698769551877943, 1.9746639924223914, 1.0), (1.3807418306962262, 0.8160567394627515, 1.0), (0.6481506000006643, -0.2993683817580585, -1.0), (0.006408247677090779, -0.711255503088516, -1.0), (-0.3556075093525846, 0.6450331217049499, -1.0), (0.9314091400315766, -0.7871051525340638, -1.0), (0.86816793401546, -0.5298525064359068, 1.0), (-0.04468918689694391, -0.5181337266696356, -1.0), (1.2636537068237677, 1.1427041812767662, 1.0), (0.09043582719932093, 0.04380816810541566, -1.0), (0.012425436725393221, -0.6643420601684578, -1.0), (-2.0485964643706644, 0.6991611363135597, 1.0), (-2.8139016711910467, 0.17553854976255767, 1.0), (1.6300789364960653, 0.3280724548177084, 1.0)]\n",
    "N = len(data)\n",
    "\n",
    "# generate_seperable_data(classA, classB)\n",
    "# print(classA)"
   ]
  },
  {
   "cell_type": "code",
   "execution_count": 117,
   "metadata": {
    "collapsed": false
   },
   "outputs": [
    {
     "data": {
      "image/png": "[encoded data removed]",
      "text/plain": [
       "<matplotlib.figure.Figure at 0x7f5883424ef0>"
      ]
     },
     "metadata": {},
     "output_type": "display_data"
    }
   ],
   "source": [
    "pylab.hold(True)\n",
    "pylab.plot([p[0] for p in classA],\n",
    "          [p[1] for p in classA],\n",
    "          'bo')\n",
    "pylab.plot([p[0] for p in classB],\n",
    "          [p[1] for p in classB],\n",
    "          'ro')\n",
    "pylab.show()"
   ]
  },
  {
   "cell_type": "code",
   "execution_count": 118,
   "metadata": {
    "collapsed": false
   },
   "outputs": [],
   "source": [
    "x_i = []\n",
    "x_j = []\n",
    "for sample in data:\n",
    "    x_i.append(sample[0])\n",
    "    x_j.append(sample[1])"
   ]
  },
  {
   "cell_type": "code",
   "execution_count": null,
   "metadata": {
    "collapsed": false
   },
   "outputs": [],
   "source": []
  },
  {
   "cell_type": "code",
   "execution_count": 119,
   "metadata": {
    "collapsed": false
   },
   "outputs": [],
   "source": [
    "# q vector is a N long vector with -1's\n",
    "mQ = matrix([-1.0 for i in range(N)])\n",
    "# print(mQ)\n",
    "# h is a vector with all 0's\n",
    "mH = matrix([0.0 for i in range(N)])\n",
    "# print(mH)"
   ]
  },
  {
   "cell_type": "code",
   "execution_count": 120,
   "metadata": {
    "collapsed": false
   },
   "outputs": [],
   "source": [
    "# the G Matrix is an identity matrix with -1's\n",
    "mG = (-1)*matrix(numpy.identity(N))"
   ]
  },
  {
   "cell_type": "code",
   "execution_count": 121,
   "metadata": {
    "collapsed": false
   },
   "outputs": [
    {
     "name": "stdout",
     "output_type": "stream",
     "text": [
      "     pcost       dcost       gap    pres   dres\n",
      " 0: -8.9359e+00 -2.6209e+01  2e+01  0e+00  2e+00\n",
      " 1: -1.5304e+01 -2.2517e+01  7e+00  8e-16  1e+00\n",
      " 2: -5.0664e+01 -6.2926e+01  1e+01  4e-15  1e+00\n",
      " 3: -2.6908e+02 -3.0469e+02  4e+01  2e-14  9e-01\n",
      " 4: -4.4458e+02 -5.2692e+02  8e+01  7e-14  7e-01\n",
      " 5: -6.4714e+02 -7.6340e+02  1e+02  3e-14  3e-01\n",
      " 6: -6.8453e+02 -6.9586e+02  1e+01  1e-13  2e-02\n",
      " 7: -6.8432e+02 -6.8564e+02  1e+00  1e-13  5e-14\n",
      " 8: -6.8513e+02 -6.8515e+02  2e-02  7e-14  5e-14\n",
      " 9: -6.8514e+02 -6.8514e+02  2e-04  6e-14  4e-14\n",
      "Optimal solution found.\n"
     ]
    }
   ],
   "source": [
    "# Make the call to qp\n",
    "mP = build_p_matrix(data, G_KERNEL_FUNCTION)\n",
    "mP = matrix(mP)\n",
    "r = qp(mP, mQ, mG, mH)\n",
    "a = list(r['x'])\n",
    "# Set all the alphas close to zero to zero\n",
    "a = [alpha if (alpha > 0.00001) else 0 for alpha in a]\n",
    "# print[(alpha < 0.000005) for alpha in a]"
   ]
  },
  {
   "cell_type": "code",
   "execution_count": 122,
   "metadata": {
    "collapsed": false
   },
   "outputs": [
    {
     "name": "stdout",
     "output_type": "stream",
     "text": [
      "[(0.9035489546136397, 1.4953163133880374, 1.0), (-2.406087941151193, 2.7719286226606514, 1.0), (0.047580817650692254, -0.4243790620748611, -1.0), (-0.08615394073448801, -0.43138176948398205, -1.0), (0.6129295705619701, -0.9976112624932569, -1.0), (0.30074589208082236, -0.894113562248964, 1.0), (-0.8585278220701754, -0.12171183247961848, 1.0), (1.093083111836234, -0.8093410950764981, 1.0), (0.11961753324296999, -0.37301577633202576, -1.0), (-0.3508898431592127, -0.7101044866932523, -1.0), (-0.5760449898120025, -0.9811474778209366, -1.0)]\n",
      "[2.5973744741311213, 0.7739614495675142, 0.000750031026144099, 439.5051298521668, 511.2680580080346, 60.640457056669575, 112.95645074869005, 100.30833974128132, 142.22557977772175, 0.0003601299461132648]\n",
      "-1.0\n"
     ]
    }
   ],
   "source": [
    "# Pick out the close-to-zero's in the alpha vector\n",
    "# nonzero_alphas = [alpha for alpha in a if (alpha > 0.0005) else 0 for alpha in a]\n",
    "nonzero_alphas = [alpha for alpha in a if (alpha > 0.0001)]\n",
    "# for index, sample in enumerate(data):\n",
    "# #     ifSLACK:\n",
    "# #         nonzero_datapoints = [sample for sample in data if ((a[index] > 0) and (a[index] < C))]\n",
    "# #     else: \n",
    "#     nonzero_datapoints = [sample for sample in data if (a[index] > 0)]\n",
    "nonzero_datapoints = []\n",
    "for index, sample in enumerate(data):\n",
    "#     print(index)\n",
    "    if a[index] > 0:\n",
    "        nonzero_datapoints.append(sample)\n",
    "    \n",
    "#     nonzero_datapoints = [sample if (sample*a[index] > 0) else 0]\n",
    "print(nonzero_datapoints)\n",
    "print(nonzero_alphas)\n",
    "# print(a)\n",
    "# Save the corresponding X_i's (which has a nonzero alpha)\n",
    "# x_i = [sample if for sample in data]\n",
    "\n",
    "def indicator(x,y, kernel_function):\n",
    "    result = 0;\n",
    "    for i in range(len(nonzero_alphas)):\n",
    "        t = nonzero_datapoints[i][2]\n",
    "        a = nonzero_alphas[i]\n",
    "        k = kernel_function([nonzero_datapoints[i][0], nonzero_datapoints[i][1]],[x,y])\n",
    "        result = result + (k * t * a)\n",
    "    return result\n",
    "\n",
    "print(nonzero_datapoints[2][2])"
   ]
  },
  {
   "cell_type": "code",
   "execution_count": 123,
   "metadata": {
    "collapsed": false
   },
   "outputs": [],
   "source": [
    "#generate new datapoints without a class and feed it into the indicator function which already knows about the non\n",
    "#zero alphas and corresponding datapoints\n",
    "new_n = len(nonzero_alphas)\n",
    "xrange = numpy.arange(-4, 4, 0.05)\n",
    "yrange = numpy.arange(-4, 4, 0.05)\n"
   ]
  },
  {
   "cell_type": "code",
   "execution_count": 124,
   "metadata": {
    "collapsed": false
   },
   "outputs": [
    {
     "data": {
      "image/png": "[encoded data removed]",
      "text/plain": [
       "<matplotlib.figure.Figure at 0x7f5883417d68>"
      ]
     },
     "metadata": {},
     "output_type": "display_data"
    }
   ],
   "source": [
    "\n",
    "\n",
    "# print(indicator(x_i, x_j, kernels.radial))\n",
    "\n",
    "grid = matrix([[indicator(x,y,G_KERNEL_FUNCTION)\n",
    "                for y in yrange]\n",
    "               for x in xrange]);\n",
    "# print grid;\n",
    "pylab.figure(1)\n",
    "# pylab.subplot(211)\n",
    "pylab.hold(True)  \n",
    "pylab.plot([p[0] for p in classA],  \n",
    "           [p[1] for p in classA],  \n",
    "           'bo') \n",
    "pylab.plot([p[0] for p in classB],  \n",
    "           [p[1] for p in classB],  \n",
    "           'ro')  \n",
    "# pylab.show()  \n",
    "# pylab.subplot(212)\n",
    "pylab.contour(xrange, yrange, grid,\n",
    "              (-1.0, 0.0, 1.0),\n",
    "              colors = ('red', 'black', 'blue'),\n",
    "              linewidths = (1, 3, 1));\n",
    "pylab.show()\n"
   ]
  },
  {
   "cell_type": "code",
   "execution_count": null,
   "metadata": {
    "collapsed": true
   },
   "outputs": [],
   "source": [
    "\n",
    "\n",
    "\n"
   ]
  },
  {
   "cell_type": "code",
   "execution_count": null,
   "metadata": {
    "collapsed": true
   },
   "outputs": [],
   "source": []
  }
 ],
 "metadata": {
  "kernelspec": {
   "display_name": "Python 3",
   "language": "python",
   "name": "python3"
  },
  "language_info": {
   "codemirror_mode": {
    "name": "ipython",
    "version": 3
   },
   "file_extension": ".py",
   "mimetype": "text/x-python",
   "name": "python",
   "nbconvert_exporter": "python",
   "pygments_lexer": "ipython3",
   "version": "3.4.3"
  }
 },
 "nbformat": 4,
 "nbformat_minor": 0
}
