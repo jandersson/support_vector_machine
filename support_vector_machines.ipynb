{
 "cells": [
  {
   "cell_type": "code",
   "execution_count": 1,
   "metadata": {
    "collapsed": false
   },
   "outputs": [],
   "source": [
    "from cvxopt.solvers import qp\n",
    "from cvxopt.base import matrix\n",
    "\n",
    "import numpy, pylab, random, math\n"
   ]
  },
  {
   "cell_type": "markdown",
   "metadata": {
    "collapsed": true
   },
   "source": [
    "# Why do we care about having a large margin?\n",
    "Lines that are too close to one class or another class (the positives or negatives), means that you believe in your training data too much. You don't want to believe the data too much, even though its all you have, otherwise you are *overfitting*. Lines that are too close to one of the classes are more likely to overfit. \n",
    "\n",
    "Functions which overfit are more complex, so it is interesting to note that the lines which are too close to a particular class are more complex.\n",
    "\n",
    "This is a good literal interpretation of the words \"over\" and \"fit.\"\n"
   ]
  },
  {
   "cell_type": "markdown",
   "metadata": {
    "collapsed": true
   },
   "source": [
    "# Lines and Hyperplanes\n",
    "The equation for a line is relatively straightforward:\n",
    "y = mx+b\n",
    "\n",
    "The equation for a hyperplane looks like this:\n",
    "y = w(transpose)x + b\n",
    "\n",
    "Heres some definitions for this hyperplane equation:\n",
    "* y: *classification label. *The output which indicates whether you are in the positive or negative class\n",
    "* w: parameters for the plane\n",
    "* b: also another parameter, moves it out of the origin"
   ]
  },
  {
   "cell_type": "markdown",
   "metadata": {},
   "source": [
    "# Kernel Function\n",
    "\n",
    "**Task:** Implement a suitable kernel function\n",
    "\n",
    "## Linear Kernel\n",
    "\n",
    "This is really just a dot product of two vectors (plus one).\n",
    "\n",
    "K(vec_x, vec_y) = vec_x_transpose * vec_y + 1"
   ]
  },
  {
   "cell_type": "code",
   "execution_count": 1,
   "metadata": {
    "collapsed": true
   },
   "outputs": [],
   "source": [
    "# Mister Global\n",
    "POWER = 2\n",
    "RADIAL_OMEGA = 1\n",
    "SIGMOID_DELTA = 1\n",
    "SIGMOID_K = 0.5"
   ]
  },
  {
   "cell_type": "code",
   "execution_count": 3,
   "metadata": {
    "collapsed": true
   },
   "outputs": [],
   "source": [
    "def linear_kernel(vec_x, vec_y):\n",
    "    # Take the dot product and then add one\n",
    "    return numpy.dot(vec_x, vec_y) + 1\n",
    "    "
   ]
  },
  {
   "cell_type": "code",
   "execution_count": 4,
   "metadata": {
    "collapsed": true
   },
   "outputs": [],
   "source": [
    "#Class from Jokull (thanks bro)\n",
    "class kernels:\n",
    "   def linear(x, y):\n",
    "       xTrans = numpy.array(x).transpose()\n",
    "       return xTrans.dot(y) + 1\n",
    "\n",
    "   def polynomial(x, y):\n",
    "       return math.pow(kernels.linear(x,y), POWER)\n",
    "\n",
    "   def radial(x, y):\n",
    "       xTrans = numpy.array(x).transpose()\n",
    "       xy  = numpy.subtract(xTrans, y)\n",
    "       normXY = numpy.linalg.norm(xy)\n",
    "       return math.exp( -math.pow(normXY,2)/(2*math.pow(RADIAL_OMEGA,2)))\n",
    "\n",
    "   def sigmoid(x, y):\n",
    "       xTrans = numpy.array(x).transpose()\n",
    "       return numpy.tanh(SIGMOID_K*xTrans.dot(y) - SIGMOID_DELTA)"
   ]
  },
  {
   "cell_type": "code",
   "execution_count": 5,
   "metadata": {
    "collapsed": false
   },
   "outputs": [
    {
     "name": "stdout",
     "output_type": "stream",
     "text": [
      "15\n"
     ]
    }
   ],
   "source": [
    "vec_x = [1,2,3]\n",
    "vec_y = [1,2,3]\n",
    "print(linear_kernel(vec_x,vec_y))"
   ]
  },
  {
   "cell_type": "markdown",
   "metadata": {},
   "source": [
    "# Build a P matrix\n"
   ]
  },
  {
   "cell_type": "code",
   "execution_count": 6,
   "metadata": {
    "collapsed": true
   },
   "outputs": [],
   "source": [
    "def build_p_matrix(samples, kernel_fun):\n",
    "    matrix = []\n",
    "    x_i = []\n",
    "    x_j = []\n",
    "    for i in range(len(samples)):\n",
    "        row = []\n",
    "        for j in range(len(samples)):\n",
    "            P_element = samples[i][2] * samples[j][2] * kernel_fun([samples[i][0], samples[i][1]], \n",
    "                                                                   [samples[j][0], samples[j][1]])\n",
    "            row.append(P_element)\n",
    "        matrix.append(row)\n",
    "    return matrix\n",
    "\n"
   ]
  },
  {
   "cell_type": "markdown",
   "metadata": {},
   "source": [
    "# Generate Test Data"
   ]
  },
  {
   "cell_type": "code",
   "execution_count": 7,
   "metadata": {
    "collapsed": true
   },
   "outputs": [],
   "source": [
    "classA = [(random.normalvariate(-1.5, 1),\n",
    "          random.normalvariate(0.5, 1),\n",
    "          1.0)\n",
    "          for i in range(5)] + \\\n",
    "        [(random.normalvariate(1.5, 1),\n",
    "         random.normalvariate(0.5, 1),\n",
    "         1.0)\n",
    "        for i in range(5)]\n",
    "    \n",
    "classB = [(random.normalvariate(0.0, 0.5),\n",
    "          random.normalvariate(-0.5, 0.5),\n",
    "          -1.0)\n",
    "         for i in range(10)]\n",
    "\n",
    "data = classA + classB\n",
    "random.shuffle(data)\n",
    "#Jokull \n",
    "data = [(-0.4817775866423481, -0.676196126111814, -1.0), (-1.3746653598765421, -1.2335653503955357, 1.0), (-0.04952991285713326, -0.477259823574604, -1.0), (-2.435302270702021, 0.5791628345129953, 1.0), (-0.23207345925812842, -0.829241385869637, -1.0), (-1.746084907233614, 0.9006137892797217, 1.0), (-0.3698769551877943, 1.9746639924223914, 1.0), (1.3807418306962262, 0.8160567394627515, 1.0), (0.6481506000006643, -0.2993683817580585, -1.0), (0.006408247677090779, -0.711255503088516, -1.0), (-0.3556075093525846, 0.6450331217049499, -1.0), (0.9314091400315766, -0.7871051525340638, -1.0), (0.86816793401546, -0.5298525064359068, 1.0), (-0.04468918689694391, -0.5181337266696356, -1.0), (1.2636537068237677, 1.1427041812767662, 1.0), (0.09043582719932093, 0.04380816810541566, -1.0), (0.012425436725393221, -0.6643420601684578, -1.0), (-2.0485964643706644, 0.6991611363135597, 1.0), (-2.8139016711910467, 0.17553854976255767, 1.0), (1.6300789364960653, 0.3280724548177084, 1.0)]\n",
    "N = len(data)"
   ]
  },
  {
   "cell_type": "code",
   "execution_count": 8,
   "metadata": {
    "collapsed": true
   },
   "outputs": [],
   "source": [
    "pylab.hold(True)\n",
    "pylab.plot([p[0] for p in classA],\n",
    "          [p[1] for p in classA],\n",
    "          'bo')\n",
    "pylab.plot([p[0] for p in classB],\n",
    "          [p[1] for p in classB],\n",
    "          'ro')\n",
    "pylab.show()"
   ]
  },
  {
   "cell_type": "code",
   "execution_count": 9,
   "metadata": {
    "collapsed": false
   },
   "outputs": [
    {
     "name": "stdout",
     "output_type": "stream",
     "text": [
      "[(-0.4817775866423481, -0.676196126111814, -1.0), (-1.3746653598765421, -1.2335653503955357, 1.0), (-0.04952991285713326, -0.477259823574604, -1.0), (-2.435302270702021, 0.5791628345129953, 1.0), (-0.23207345925812842, -0.829241385869637, -1.0), (-1.746084907233614, 0.9006137892797217, 1.0), (-0.3698769551877943, 1.9746639924223914, 1.0), (1.3807418306962262, 0.8160567394627515, 1.0), (0.6481506000006643, -0.2993683817580585, -1.0), (0.006408247677090779, -0.711255503088516, -1.0), (-0.3556075093525846, 0.6450331217049499, -1.0), (0.9314091400315766, -0.7871051525340638, -1.0), (0.86816793401546, -0.5298525064359068, 1.0), (-0.04468918689694391, -0.5181337266696356, -1.0), (1.2636537068237677, 1.1427041812767662, 1.0), (0.09043582719932093, 0.04380816810541566, -1.0), (0.012425436725393221, -0.6643420601684578, -1.0), (-2.0485964643706644, 0.6991611363135597, 1.0), (-2.8139016711910467, 0.17553854976255767, 1.0), (1.6300789364960653, 0.3280724548177084, 1.0)]\n",
      "1.0\n",
      "[-0.4817775866423481, -1.3746653598765421, -0.04952991285713326, -2.435302270702021, -0.23207345925812842, -1.746084907233614, -0.3698769551877943, 1.3807418306962262, 0.6481506000006643, 0.006408247677090779, -0.3556075093525846, 0.9314091400315766, 0.86816793401546, -0.04468918689694391, 1.2636537068237677, 0.09043582719932093, 0.012425436725393221, -2.0485964643706644, -2.8139016711910467, 1.6300789364960653]\n"
     ]
    }
   ],
   "source": [
    "print(data)\n",
    "print(data[1][2])\n",
    "    \n",
    "x_i = []\n",
    "x_j = []\n",
    "for sample in data:\n",
    "    x_i.append(sample[0])\n",
    "    x_j.append(sample[1])\n",
    "print(x_i)"
   ]
  },
  {
   "cell_type": "code",
   "execution_count": 10,
   "metadata": {
    "collapsed": false
   },
   "outputs": [],
   "source": [
    "mP = build_p_matrix(data, kernels.polynomial)\n",
    "mP = matrix(mP)\n",
    "# print(fancy_mP)\n"
   ]
  },
  {
   "cell_type": "code",
   "execution_count": 11,
   "metadata": {
    "collapsed": false
   },
   "outputs": [],
   "source": [
    "# q vector is a N long vector with -1's\n",
    "mQ = matrix([-1.0 for i in range(N)])\n",
    "# print(mQ)\n",
    "# h is a vector with all 0's\n",
    "mH = matrix([0.0 for i in range(N)])\n",
    "# print(mH)"
   ]
  },
  {
   "cell_type": "code",
   "execution_count": 12,
   "metadata": {
    "collapsed": false
   },
   "outputs": [],
   "source": [
    "# the G Matrix is an identity matrix with -1's\n",
    "mG = (-1)*matrix(numpy.identity(N))\n",
    "# print(mG)"
   ]
  },
  {
   "cell_type": "code",
   "execution_count": 24,
   "metadata": {
    "collapsed": false
   },
   "outputs": [
    {
     "name": "stdout",
     "output_type": "stream",
     "text": [
      "     pcost       dcost       gap    pres   dres\n",
      " 0: -5.5619e+00 -1.5029e+01  8e+01  7e+00  2e+00\n",
      " 1: -1.6497e+01 -2.8666e+01  5e+01  5e+00  1e+00\n",
      " 2: -5.3571e+01 -6.3447e+01  4e+01  3e+00  1e+00\n",
      " 3: -1.4223e+02 -1.5118e+02  5e+01  3e+00  1e+00\n",
      " 4: -1.6454e+02 -2.0954e+02  1e+02  2e+00  6e-01\n",
      " 5: -1.1886e+02 -1.6182e+02  9e+01  6e-01  2e-01\n",
      " 6: -1.2084e+02 -1.2219e+02  3e+00  2e-02  7e-03\n",
      " 7: -1.2058e+02 -1.2059e+02  3e-02  2e-04  7e-05\n",
      " 8: -1.2057e+02 -1.2057e+02  3e-04  2e-06  7e-07\n",
      " 9: -1.2057e+02 -1.2057e+02  3e-06  2e-08  7e-09\n",
      "Optimal solution found.\n",
      "[0, 0.9029756022691927, 0, 0, 0, 0, 1.2421375666813084, 0, 68.02087927035691, 0, 0, 55.59505917601346, 115.38468947143198, 0, 0, 0, 0, 0, 0, 0]\n"
     ]
    }
   ],
   "source": [
    "# Make the call to qp\n",
    "r = qp(mP, mQ, mG, mH)\n",
    "a = list(r['x'])\n",
    "a = [alpha if (alpha > 0.00001) else 0 for alpha in a]\n",
    "print(a)\n",
    "\n",
    "# print[(alpha < 0.000005) for alpha in a]"
   ]
  },
  {
   "cell_type": "code",
   "execution_count": 39,
   "metadata": {
    "collapsed": false
   },
   "outputs": [
    {
     "name": "stdout",
     "output_type": "stream",
     "text": [
      "[(-1.3746653598765421, -1.2335653503955357, 1.0), (-0.3698769551877943, 1.9746639924223914, 1.0), (0.6481506000006643, -0.2993683817580585, -1.0), (0.9314091400315766, -0.7871051525340638, -1.0), (0.86816793401546, -0.5298525064359068, 1.0)]\n",
      "[0.9029756022691927, 1.2421375666813084, 68.02087927035691, 55.59505917601346, 115.38468947143198]\n"
     ]
    }
   ],
   "source": [
    "# Pick out the close-to-zero's in the alpha vector\n",
    "# nonzero_alphas = [alpha for alpha in a if (alpha > 0.0005) else 0 for alpha in a]\n",
    "nonzero_alphas = [alpha for alpha in a if (alpha > 0.0001)]\n",
    "for index, sample in enumerate(data):\n",
    "#     print(sample*a[index])\n",
    "#     print(a[index])\n",
    "    nonzero_datapoints = [sample for sample in data if (a[index] > 0)]\n",
    "nonzero_datapoints = []\n",
    "for index, sample in enumerate(data):\n",
    "#     print(index)\n",
    "    if a[index] > 0:\n",
    "        nonzero_datapoints.append(sample)\n",
    "    \n",
    "#     nonzero_datapoints = [sample if (sample*a[index] > 0) else 0]\n",
    "print(nonzero_datapoints)\n",
    "print(nonzero_alphas)\n",
    "# print(a)\n",
    "# Save the corresponding X_i's (which has a nonzero alpha)\n",
    "# x_i = [sample if for sample in data]"
   ]
  },
  {
   "cell_type": "code",
   "execution_count": 61,
   "metadata": {
    "collapsed": false
   },
   "outputs": [
    {
     "name": "stdout",
     "output_type": "stream",
     "text": [
      "[(-4.0, -4.0), (-3.9500000000000002, -3.9500000000000002), (-3.9000000000000004, -3.9000000000000004), (-3.8500000000000005, -3.8500000000000005), (-3.8000000000000007, -3.8000000000000007)]\n"
     ]
    }
   ],
   "source": [
    "#generate new datapoints without a class and feed it into the indicator function which already knows about the non\n",
    "#zero alphas and corresponding datapoints\n",
    "new_n = len(nonzero_alphas)\n",
    "xrange = numpy.arange(-4, 4, 0.05)\n",
    "yrange = numpy.arange(-4, 4, 0.05)\n",
    "# for index in range(new_n):\n",
    "#     new_data = [(xrange[index], yrange[index])]\n",
    "new_data = []\n",
    "for i in range(new_n):\n",
    "    new_data.append((xrange[i], yrange[i]))\n",
    "# new_data = zip(xrange,yrange)\n",
    "print(new_data)\n",
    "# print(xrange)\n",
    "def indicator(new_data, alphas, support_points, kernel_method):\n",
    "    for i in range(len(alphas)):\n",
    "        alphas[i]*support_points[i][2]*kernel_method([support_points[i][0], support_points[i][1]],\n",
    "                                                     [new_data[i][0], new_data[i][1]])\n",
    "\n",
    "[ [ i n d i c a t o r ( x , y )\n",
    "f o r y in yrange ]\n",
    "f o r x in xrange ]"
   ]
  },
  {
   "cell_type": "code",
   "execution_count": 63,
   "metadata": {
    "collapsed": false
   },
   "outputs": [
    {
     "ename": "TypeError",
     "evalue": "invalid type in list",
     "output_type": "error",
     "traceback": [
      "\u001b[1;31m---------------------------------------------------------------------------\u001b[0m",
      "\u001b[1;31mTypeError\u001b[0m                                 Traceback (most recent call last)",
      "\u001b[1;32m<ipython-input-63-49c53434f4d4>\u001b[0m in \u001b[0;36m<module>\u001b[1;34m()\u001b[0m\n\u001b[1;32m----> 1\u001b[1;33m \u001b[0mgrid\u001b[0m \u001b[1;33m=\u001b[0m \u001b[0mmatrix\u001b[0m\u001b[1;33m(\u001b[0m\u001b[1;33m[\u001b[0m\u001b[1;33m[\u001b[0m\u001b[0mindicator\u001b[0m\u001b[1;33m(\u001b[0m\u001b[0mnew_data\u001b[0m\u001b[1;33m[\u001b[0m\u001b[1;33m:\u001b[0m\u001b[0mnew_n\u001b[0m\u001b[1;33m]\u001b[0m\u001b[1;33m,\u001b[0m \u001b[0mnonzero_alphas\u001b[0m\u001b[1;33m,\u001b[0m \u001b[0mnonzero_datapoints\u001b[0m\u001b[1;33m,\u001b[0m \u001b[0mkernels\u001b[0m\u001b[1;33m.\u001b[0m\u001b[0mpolynomial\u001b[0m\u001b[1;33m)\u001b[0m \u001b[1;32mfor\u001b[0m \u001b[0my\u001b[0m \u001b[1;32min\u001b[0m \u001b[0myrange\u001b[0m\u001b[1;33m]\u001b[0m \u001b[1;32mfor\u001b[0m \u001b[0mx\u001b[0m \u001b[1;32min\u001b[0m \u001b[0mxrange\u001b[0m\u001b[1;33m]\u001b[0m\u001b[1;33m)\u001b[0m\u001b[1;33m\u001b[0m\u001b[0m\n\u001b[0m",
      "\u001b[1;31mTypeError\u001b[0m: invalid type in list"
     ]
    }
   ],
   "source": [
    "grid = matrix([\n",
    "        [indicator(new_data[:new_n], nonzero_alphas, nonzero_datapoints, kernels.polynomial) for y in yrange] \n",
    "        for x in xrange])\n"
   ]
  },
  {
   "cell_type": "code",
   "execution_count": null,
   "metadata": {
    "collapsed": true
   },
   "outputs": [],
   "source": []
  }
 ],
 "metadata": {
  "kernelspec": {
   "display_name": "Python 3",
   "language": "python",
   "name": "python3"
  },
  "language_info": {
   "codemirror_mode": {
    "name": "ipython",
    "version": 3
   },
   "file_extension": ".py",
   "mimetype": "text/x-python",
   "name": "python",
   "nbconvert_exporter": "python",
   "pygments_lexer": "ipython3",
   "version": "3.4.3"
  }
 },
 "nbformat": 4,
 "nbformat_minor": 0
}
